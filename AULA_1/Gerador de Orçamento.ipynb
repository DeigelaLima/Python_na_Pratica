{
 "cells": [
  {
   "cell_type": "markdown",
   "id": "4e3b4210",
   "metadata": {},
   "source": [
    "# Meu primeiro código Python"
   ]
  },
  {
   "cell_type": "code",
   "execution_count": 2,
   "id": "ad786b79",
   "metadata": {},
   "outputs": [
    {
     "name": "stdout",
     "output_type": "stream",
     "text": [
      "Orçamento gerado com sucesso!\n",
      "Semana do Python na Prática\n",
      "Eu adoro programar em Python\n"
     ]
    }
   ],
   "source": [
    "print(\"Orçamento gerado com sucesso!\")\n",
    "print(\"Semana do Python na Prática\")\n",
    "print(\"Eu adoro programar em Python\")\n"
   ]
  },
  {
   "cell_type": "markdown",
   "id": "44e20af9",
   "metadata": {},
   "source": [
    "# Entrada de dados"
   ]
  },
  {
   "cell_type": "code",
   "execution_count": 6,
   "id": "20a88297",
   "metadata": {},
   "outputs": [
    {
     "name": "stdout",
     "output_type": "stream",
     "text": [
      "Digite a descrição do projeto: Desenvolvimento Web\n",
      "Digite o total de horas estimadas: 200\n",
      "Digite o valor da hora trabalhada: 150\n",
      "Digite o prazo estimado: 3 meses\n"
     ]
    },
    {
     "data": {
      "text/plain": [
       "'3 meses'"
      ]
     },
     "execution_count": 6,
     "metadata": {},
     "output_type": "execute_result"
    }
   ],
   "source": [
    "input(\"Digite a descrição do projeto: \")\n",
    "input(\"Digite o total de horas estimadas: \")\n",
    "input(\"Digite o valor da hora trabalhada: \")\n",
    "input(\"Digite o prazo estimado: \")"
   ]
  },
  {
   "cell_type": "markdown",
   "id": "27a1a323",
   "metadata": {},
   "source": [
    "# Gravando dados (variáveis)\n",
    "\n",
    "- Não pode começar com número\n",
    "- Não pode ter espaço\n",
    "- Não pode ser uma palavra reservada do python"
   ]
  },
  {
   "cell_type": "code",
   "execution_count": 42,
   "id": "1f899eef",
   "metadata": {},
   "outputs": [
    {
     "name": "stdout",
     "output_type": "stream",
     "text": [
      "Digite a descrição do projeto: Desenvolvimento Python\n",
      "Digite o total de horas estimadas: 200\n",
      "Digite o valor da hora trabalhada: 100\n",
      "Digite o prazo estimado: 3 meses\n"
     ]
    }
   ],
   "source": [
    "projeto = input(\"Digite a descrição do projeto: \")\n",
    "horas_estimadas = input(\"Digite o total de horas estimadas: \")\n",
    "valor_hora = input(\"Digite o valor da hora trabalhada: \")\n",
    "prazo_estimado = input(\"Digite o prazo estimado: \")"
   ]
  },
  {
   "cell_type": "markdown",
   "id": "c1620487",
   "metadata": {},
   "source": [
    "# Cálculos"
   ]
  },
  {
   "cell_type": "markdown",
   "id": "b1623d68",
   "metadata": {},
   "source": [
    "## Tipo de dados"
   ]
  },
  {
   "cell_type": "code",
   "execution_count": 43,
   "id": "fbe6ae59",
   "metadata": {},
   "outputs": [
    {
     "data": {
      "text/plain": [
       "'200'"
      ]
     },
     "execution_count": 43,
     "metadata": {},
     "output_type": "execute_result"
    }
   ],
   "source": [
    "# Como observado a variável 'horas_estimadas' é do tipo String(str),\n",
    "# para fazer o cálculo é preciso converter do tipo String para inteiro(int). \n",
    "horas_estimadas"
   ]
  },
  {
   "cell_type": "code",
   "execution_count": 37,
   "id": "a7955d67",
   "metadata": {},
   "outputs": [
    {
     "data": {
      "text/plain": [
       "str"
      ]
     },
     "execution_count": 37,
     "metadata": {},
     "output_type": "execute_result"
    }
   ],
   "source": [
    "type(horas_estimadas)"
   ]
  },
  {
   "cell_type": "code",
   "execution_count": 44,
   "id": "a5a16b70",
   "metadata": {},
   "outputs": [
    {
     "data": {
      "text/plain": [
       "'100'"
      ]
     },
     "execution_count": 44,
     "metadata": {},
     "output_type": "execute_result"
    }
   ],
   "source": [
    "# Como observado a variável 'valor_hora' é do tipo String(str),\n",
    "# para fazer o cálculo é preciso converter do tipo String para inteiro(int). \n",
    "valor_hora"
   ]
  },
  {
   "cell_type": "code",
   "execution_count": 39,
   "id": "a82cc68e",
   "metadata": {},
   "outputs": [
    {
     "data": {
      "text/plain": [
       "str"
      ]
     },
     "execution_count": 39,
     "metadata": {},
     "output_type": "execute_result"
    }
   ],
   "source": [
    "type(valor_hora)"
   ]
  },
  {
   "cell_type": "code",
   "execution_count": 47,
   "id": "d33af9cb",
   "metadata": {},
   "outputs": [],
   "source": [
    "valor_total = int(horas_estimadas) * int(valor_hora)"
   ]
  },
  {
   "cell_type": "code",
   "execution_count": 50,
   "id": "16a5de6b",
   "metadata": {},
   "outputs": [
    {
     "name": "stdout",
     "output_type": "stream",
     "text": [
      "20000\n"
     ]
    }
   ],
   "source": [
    "#type(valor_total)\n",
    "print(valor_total)"
   ]
  },
  {
   "cell_type": "markdown",
   "id": "d2dd235f",
   "metadata": {},
   "source": [
    "# Gerador de PDF"
   ]
  },
  {
   "cell_type": "code",
   "execution_count": 52,
   "id": "7718f2e2",
   "metadata": {},
   "outputs": [
    {
     "name": "stdout",
     "output_type": "stream",
     "text": [
      "Defaulting to user installation because normal site-packages is not writeable\n",
      "Requirement already satisfied: fpdf in /home/deigela/.local/lib/python3.10/site-packages (1.7.2)\n"
     ]
    }
   ],
   "source": [
    "# Esse comando abaixo pega vários comandos de PDF's e trás para dentro do Python\n",
    "!pip install fpdf"
   ]
  },
  {
   "cell_type": "code",
   "execution_count": 2,
   "id": "7bc2801c",
   "metadata": {},
   "outputs": [],
   "source": [
    "# Esse comando abaixo diz para o Python carregar todos os comandos do FPDF\n",
    "# que preciso usar.\n",
    "# importando a biblioteca\n",
    "from fpdf import FPDF"
   ]
  },
  {
   "cell_type": "code",
   "execution_count": 20,
   "id": "d8de6a67",
   "metadata": {},
   "outputs": [
    {
     "name": "stdout",
     "output_type": "stream",
     "text": [
      "Digite a descrição do projeto: Desenvolvimento Web\n",
      "Digite o total de horas estimadas: 200\n",
      "Digite o valor da hora trabalhada: 150\n",
      "Digite o prazo estimado: 4 meses\n",
      "Orçamento gerado com sucesso!\n"
     ]
    }
   ],
   "source": [
    "projeto = input(\"Digite a descrição do projeto: \")\n",
    "horas_estimadas = input(\"Digite o total de horas estimadas: \")\n",
    "valor_hora = input(\"Digite o valor da hora trabalhada: \")\n",
    "prazo_estimado = input(\"Digite o prazo estimado: \")\n",
    "\n",
    "valor_total = int(horas_estimadas) * int(valor_hora)\n",
    "\n",
    "\n",
    "# Cria um PDF na memória do Python\n",
    "pdf = FPDF()\n",
    "\n",
    "# Adiciona uma página\n",
    "pdf.add_page()\n",
    "\n",
    "# Tipo de fonte que tem no PDF\n",
    "pdf.set_font(\"Arial\")\n",
    "\n",
    "# Adicionando o Template. \n",
    "# Colocando o template nas coordenadas x = 0 e y = 0, \n",
    "# dessa forma o template vai tomar toda a página.\n",
    "pdf.image(\"template.png\", x=0, y=0)\n",
    "\n",
    "# Adiciona o nome Deigela Lima na coordenada (x = 10, y = 10) == (10, 10)\n",
    "#pdf.text(10, 10, \"Deigela Lima\")\n",
    "\n",
    "# Adicionando no PDF as variáveis criadas anteriormente\n",
    "pdf.text(115, 145, projeto)\n",
    "pdf.text(115, 160, horas_estimadas)\n",
    "pdf.text(115, 175, valor_hora)\n",
    "pdf.text(115, 190, prazo_estimado)\n",
    "pdf.text(115, 205, str(valor_total))\n",
    "\n",
    "# Grava o PDF com o nome Orçamento\n",
    "# Sempre tem que colocar qual a extensão do arquivo\n",
    "# Vai gerar um PDF em branco\n",
    "pdf.output(\"Orçamento.pdf\")\n",
    "print(\"Orçamento gerado com sucesso!\")\n"
   ]
  }
 ],
 "metadata": {
  "kernelspec": {
   "display_name": "Python 3 (ipykernel)",
   "language": "python",
   "name": "python3"
  },
  "language_info": {
   "codemirror_mode": {
    "name": "ipython",
    "version": 3
   },
   "file_extension": ".py",
   "mimetype": "text/x-python",
   "name": "python",
   "nbconvert_exporter": "python",
   "pygments_lexer": "ipython3",
   "version": "3.10.6"
  }
 },
 "nbformat": 4,
 "nbformat_minor": 5
}
